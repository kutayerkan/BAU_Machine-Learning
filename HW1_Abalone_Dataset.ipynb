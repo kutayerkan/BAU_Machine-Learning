{
 "cells": [
  {
   "cell_type": "markdown",
   "metadata": {},
   "source": [
    "# Naive Bayes on Abalone Dataset"
   ]
  },
  {
   "cell_type": "code",
   "execution_count": 524,
   "metadata": {},
   "outputs": [],
   "source": [
    "# importing all necessary packages and functions\n",
    "\n",
    "import pandas as pd\n",
    "import numpy as np\n",
    "import math as m\n",
    "from sklearn.model_selection import train_test_split\n",
    "\n",
    "import warnings\n",
    "warnings.filterwarnings('ignore')"
   ]
  },
  {
   "cell_type": "code",
   "execution_count": 525,
   "metadata": {},
   "outputs": [],
   "source": [
    "# kernel option to see output of multiple code lines\n",
    "\n",
    "from IPython.core.interactiveshell import InteractiveShell\n",
    "InteractiveShell.ast_node_interactivity = \"all\""
   ]
  },
  {
   "cell_type": "code",
   "execution_count": 526,
   "metadata": {},
   "outputs": [],
   "source": [
    "def df_split(dataframe, training_samples):\n",
    "    df_training, df_validation = train_test_split(dataframe, train_size=training_samples)\n",
    "    return df_training, df_validation"
   ]
  },
  {
   "cell_type": "code",
   "execution_count": 527,
   "metadata": {},
   "outputs": [],
   "source": [
    "def convert_to_sex_prob_1(x):\n",
    "    if x == 'F':\n",
    "        return sex_prob.loc['F'][1]\n",
    "    elif x == 'M':\n",
    "        return sex_prob.loc['M'][1]\n",
    "    elif x == 'I':\n",
    "        return sex_prob.loc['I'][1]\n",
    "    else:\n",
    "        return 'N/A'\n",
    "\n",
    "def convert_to_sex_prob_2(x):\n",
    "    if x == 'F':\n",
    "        return sex_prob.loc['F'][2]\n",
    "    elif x == 'M':\n",
    "        return sex_prob.loc['M'][2]\n",
    "    elif x == 'I':\n",
    "        return sex_prob.loc['I'][2]\n",
    "    else:\n",
    "        return 'N/A'\n",
    "\n",
    "def convert_to_sex_prob_3(x):\n",
    "    if x == 'F':\n",
    "        return sex_prob.loc['F'][3]\n",
    "    elif x == 'M':\n",
    "        return sex_prob.loc['M'][3]\n",
    "    elif x == 'I':\n",
    "        return sex_prob.loc['I'][3]\n",
    "    else:\n",
    "        return 'N/A'"
   ]
  },
  {
   "cell_type": "code",
   "execution_count": 528,
   "metadata": {},
   "outputs": [],
   "source": [
    "df = pd.read_table(\"abalone_dataset.txt\", sep=\"\\t\", header=None)\n",
    "df.columns = [\"sex\", \"length\", \"diameter\", \"height\", \"whole_weight\",\n",
    "                \"shucked_weight\", \"viscera_weight\", \"shell_weight\", \"age_class\"]"
   ]
  },
  {
   "cell_type": "markdown",
   "metadata": {},
   "source": [
    "### We decide the training samples for different cases (100, 1000, 2000):"
   ]
  },
  {
   "cell_type": "code",
   "execution_count": 529,
   "metadata": {},
   "outputs": [],
   "source": [
    "# only input before clicking Run All\n",
    "\n",
    "training_samples = 2000\n",
    "\n",
    "df_train = df_split(df, training_samples)[0]\n",
    "df_test = df_split(df, training_samples)[1]"
   ]
  },
  {
   "cell_type": "code",
   "execution_count": 530,
   "metadata": {},
   "outputs": [],
   "source": [
    "df_train1 = df_train[df_train.age_class==1]\n",
    "df_train2 = df_train[df_train.age_class==2]\n",
    "df_train3 = df_train[df_train.age_class==3]\n",
    "\n",
    "stat_table_1 = df_train1.describe()[1:3].transpose()\n",
    "stat_table_2 = df_train2.describe()[1:3].transpose()\n",
    "stat_table_3 = df_train3.describe()[1:3].transpose()\n",
    "\n",
    "stat_table_1 = stat_table_1.add_prefix('class1_')\n",
    "stat_table_2 = stat_table_2.add_prefix('class2_')\n",
    "stat_table_3 = stat_table_3.add_prefix('class3_')\n",
    "\n",
    "frames = [stat_table_1, stat_table_2, stat_table_3]\n",
    "stat_table = pd.concat(frames, axis=1, join_axes=[stat_table_1.index])\n",
    "stat_table = stat_table.transpose()"
   ]
  },
  {
   "cell_type": "code",
   "execution_count": 531,
   "metadata": {},
   "outputs": [],
   "source": [
    "age_prob = pd.DataFrame([len(df_train[df_train.age_class==1])/len(df_train),\n",
    "          len(df_train[df_train.age_class==2])/len(df_train),\n",
    "          len(df_train[df_train.age_class==3])/len(df_train)],\n",
    "                        index=['1','2','3'],\n",
    "                        columns=['probability'])\n",
    "\n",
    "sex_prob = pd.crosstab(df_train.sex, df_train.age_class, normalize='columns')"
   ]
  },
  {
   "cell_type": "code",
   "execution_count": 532,
   "metadata": {},
   "outputs": [],
   "source": [
    "df_test['age_prob_1'],df_test['age_prob_2'],df_test['age_prob_3'] = [0,0,0]\n",
    "df_test['sex_1'],df_test['sex_2'],df_test['sex_3'] = df_test.sex,df_test.sex,df_test.sex\n",
    "df_test['length_1'],df_test['length_2'],df_test['length_3'] = df_test.length,df_test.length,df_test.length\n",
    "df_test['diameter_1'],df_test['diameter_2'],df_test['diameter_3'] = df_test.diameter,df_test.diameter,df_test.diameter\n",
    "df_test['height_1'],df_test['height_2'],df_test['height_3'] = df_test.height,df_test.height,df_test.height\n",
    "df_test['whole_weight_1'],df_test['whole_weight_2'],df_test['whole_weight_3'] = df_test.whole_weight,df_test.whole_weight,df_test.whole_weight\n",
    "df_test['shucked_weight_1'],df_test['shucked_weight_2'],df_test['shucked_weight_3'] = df_test.shucked_weight,df_test.shucked_weight,df_test.shucked_weight\n",
    "df_test['viscera_weight_1'],df_test['viscera_weight_2'],df_test['viscera_weight_3'] = df_test.viscera_weight,df_test.viscera_weight,df_test.viscera_weight\n",
    "df_test['shell_weight_1'],df_test['shell_weight_2'],df_test['shell_weight_3'] = df_test.shell_weight,df_test.shell_weight,df_test.shell_weight"
   ]
  },
  {
   "cell_type": "code",
   "execution_count": 533,
   "metadata": {},
   "outputs": [],
   "source": [
    "df_test.age_prob_1 = df_test.age_prob_1.apply(lambda x: age_prob.loc['1'])\n",
    "df_test.age_prob_2 = df_test.age_prob_2.apply(lambda x: age_prob.loc['2'])\n",
    "df_test.age_prob_3 = df_test.age_prob_3.apply(lambda x: age_prob.loc['3'])"
   ]
  },
  {
   "cell_type": "code",
   "execution_count": 534,
   "metadata": {},
   "outputs": [],
   "source": [
    "df_test.sex_1 = df_test.sex_1.apply(convert_to_sex_prob_1)\n",
    "df_test.sex_2 = df_test.sex_2.apply(convert_to_sex_prob_2)\n",
    "df_test.sex_3 = df_test.sex_3.apply(convert_to_sex_prob_3)"
   ]
  },
  {
   "cell_type": "code",
   "execution_count": 535,
   "metadata": {},
   "outputs": [],
   "source": [
    "df_test.length_1 = df_test.length_1.apply(lambda x: (1 / (m.sqrt(2*m.pi*m.pow(stat_table.loc['class1_std']['length'],2)))) * m.exp(-(m.pow(x-stat_table.loc['class1_mean']['length'],2)/(2*m.pow(stat_table.loc['class1_std']['length'],2)))))\n",
    "df_test.length_2 = df_test.length_2.apply(lambda x: (1 / (m.sqrt(2*m.pi*m.pow(stat_table.loc['class2_std']['length'],2)))) * m.exp(-(m.pow(x-stat_table.loc['class2_mean']['length'],2)/(2*m.pow(stat_table.loc['class2_std']['length'],2)))))\n",
    "df_test.length_3 = df_test.length_3.apply(lambda x: (1 / (m.sqrt(2*m.pi*m.pow(stat_table.loc['class3_std']['length'],2)))) * m.exp(-(m.pow(x-stat_table.loc['class3_mean']['length'],2)/(2*m.pow(stat_table.loc['class3_std']['length'],2)))))"
   ]
  },
  {
   "cell_type": "code",
   "execution_count": 536,
   "metadata": {},
   "outputs": [],
   "source": [
    "df_test.diameter_1 = df_test.diameter_1.apply(lambda x: (1 / (m.sqrt(2*m.pi*m.pow(stat_table.loc['class1_std']['diameter'],2)))) * m.exp(-(m.pow(x-stat_table.loc['class1_mean']['diameter'],2)/(2*m.pow(stat_table.loc['class1_std']['diameter'],2)))))\n",
    "df_test.diameter_2 = df_test.diameter_2.apply(lambda x: (1 / (m.sqrt(2*m.pi*m.pow(stat_table.loc['class2_std']['diameter'],2)))) * m.exp(-(m.pow(x-stat_table.loc['class2_mean']['diameter'],2)/(2*m.pow(stat_table.loc['class2_std']['diameter'],2)))))\n",
    "df_test.diameter_3 = df_test.diameter_3.apply(lambda x: (1 / (m.sqrt(2*m.pi*m.pow(stat_table.loc['class3_std']['diameter'],2)))) * m.exp(-(m.pow(x-stat_table.loc['class3_mean']['diameter'],2)/(2*m.pow(stat_table.loc['class3_std']['diameter'],2)))))"
   ]
  },
  {
   "cell_type": "code",
   "execution_count": 537,
   "metadata": {},
   "outputs": [],
   "source": [
    "df_test.height_1 = df_test.height_1.apply(lambda x: (1 / (m.sqrt(2*m.pi*m.pow(stat_table.loc['class1_std']['height'],2)))) * m.exp(-(m.pow(x-stat_table.loc['class1_mean']['height'],2)/(2*m.pow(stat_table.loc['class1_std']['height'],2)))))\n",
    "df_test.height_2 = df_test.height_2.apply(lambda x: (1 / (m.sqrt(2*m.pi*m.pow(stat_table.loc['class2_std']['height'],2)))) * m.exp(-(m.pow(x-stat_table.loc['class2_mean']['height'],2)/(2*m.pow(stat_table.loc['class2_std']['height'],2)))))\n",
    "df_test.height_3 = df_test.height_3.apply(lambda x: (1 / (m.sqrt(2*m.pi*m.pow(stat_table.loc['class3_std']['height'],2)))) * m.exp(-(m.pow(x-stat_table.loc['class3_mean']['height'],2)/(2*m.pow(stat_table.loc['class3_std']['height'],2)))))"
   ]
  },
  {
   "cell_type": "code",
   "execution_count": 538,
   "metadata": {},
   "outputs": [],
   "source": [
    "df_test.whole_weight_1 = df_test.whole_weight_1.apply(lambda x: (1 / (m.sqrt(2*m.pi*m.pow(stat_table.loc['class1_std']['whole_weight'],2)))) * m.exp(-(m.pow(x-stat_table.loc['class1_mean']['whole_weight'],2)/(2*m.pow(stat_table.loc['class1_std']['whole_weight'],2)))))\n",
    "df_test.whole_weight_2 = df_test.whole_weight_2.apply(lambda x: (1 / (m.sqrt(2*m.pi*m.pow(stat_table.loc['class2_std']['whole_weight'],2)))) * m.exp(-(m.pow(x-stat_table.loc['class2_mean']['whole_weight'],2)/(2*m.pow(stat_table.loc['class2_std']['whole_weight'],2)))))\n",
    "df_test.whole_weight_3 = df_test.whole_weight_3.apply(lambda x: (1 / (m.sqrt(2*m.pi*m.pow(stat_table.loc['class3_std']['whole_weight'],2)))) * m.exp(-(m.pow(x-stat_table.loc['class3_mean']['whole_weight'],2)/(2*m.pow(stat_table.loc['class3_std']['whole_weight'],2)))))"
   ]
  },
  {
   "cell_type": "code",
   "execution_count": 539,
   "metadata": {},
   "outputs": [],
   "source": [
    "df_test.shucked_weight_1 = df_test.shucked_weight_1.apply(lambda x: (1 / (m.sqrt(2*m.pi*m.pow(stat_table.loc['class1_std']['shucked_weight'],2)))) * m.exp(-(m.pow(x-stat_table.loc['class1_mean']['shucked_weight'],2)/(2*m.pow(stat_table.loc['class1_std']['shucked_weight'],2)))))\n",
    "df_test.shucked_weight_2 = df_test.shucked_weight_2.apply(lambda x: (1 / (m.sqrt(2*m.pi*m.pow(stat_table.loc['class2_std']['shucked_weight'],2)))) * m.exp(-(m.pow(x-stat_table.loc['class2_mean']['shucked_weight'],2)/(2*m.pow(stat_table.loc['class2_std']['shucked_weight'],2)))))\n",
    "df_test.shucked_weight_3 = df_test.shucked_weight_3.apply(lambda x: (1 / (m.sqrt(2*m.pi*m.pow(stat_table.loc['class3_std']['shucked_weight'],2)))) * m.exp(-(m.pow(x-stat_table.loc['class3_mean']['shucked_weight'],2)/(2*m.pow(stat_table.loc['class3_std']['shucked_weight'],2)))))"
   ]
  },
  {
   "cell_type": "code",
   "execution_count": 540,
   "metadata": {},
   "outputs": [],
   "source": [
    "df_test.viscera_weight_1 = df_test.viscera_weight_1.apply(lambda x: (1 / (m.sqrt(2*m.pi*m.pow(stat_table.loc['class1_std']['viscera_weight'],2)))) * m.exp(-(m.pow(x-stat_table.loc['class1_mean']['viscera_weight'],2)/(2*m.pow(stat_table.loc['class1_std']['viscera_weight'],2)))))\n",
    "df_test.viscera_weight_2 = df_test.viscera_weight_2.apply(lambda x: (1 / (m.sqrt(2*m.pi*m.pow(stat_table.loc['class2_std']['viscera_weight'],2)))) * m.exp(-(m.pow(x-stat_table.loc['class2_mean']['viscera_weight'],2)/(2*m.pow(stat_table.loc['class2_std']['viscera_weight'],2)))))\n",
    "df_test.viscera_weight_3 = df_test.viscera_weight_3.apply(lambda x: (1 / (m.sqrt(2*m.pi*m.pow(stat_table.loc['class3_std']['viscera_weight'],2)))) * m.exp(-(m.pow(x-stat_table.loc['class3_mean']['viscera_weight'],2)/(2*m.pow(stat_table.loc['class3_std']['viscera_weight'],2)))))"
   ]
  },
  {
   "cell_type": "code",
   "execution_count": 541,
   "metadata": {},
   "outputs": [],
   "source": [
    "df_test.shell_weight_1 = df_test.shell_weight_1.apply(lambda x: (1 / (m.sqrt(2*m.pi*m.pow(stat_table.loc['class1_std']['shell_weight'],2)))) * m.exp(-(m.pow(x-stat_table.loc['class1_mean']['shell_weight'],2)/(2*m.pow(stat_table.loc['class1_std']['shell_weight'],2)))))\n",
    "df_test.shell_weight_2 = df_test.shell_weight_2.apply(lambda x: (1 / (m.sqrt(2*m.pi*m.pow(stat_table.loc['class2_std']['shell_weight'],2)))) * m.exp(-(m.pow(x-stat_table.loc['class2_mean']['shell_weight'],2)/(2*m.pow(stat_table.loc['class2_std']['shell_weight'],2)))))\n",
    "df_test.shell_weight_3 = df_test.shell_weight_3.apply(lambda x: (1 / (m.sqrt(2*m.pi*m.pow(stat_table.loc['class3_std']['shell_weight'],2)))) * m.exp(-(m.pow(x-stat_table.loc['class3_mean']['shell_weight'],2)/(2*m.pow(stat_table.loc['class3_std']['shell_weight'],2)))))"
   ]
  },
  {
   "cell_type": "code",
   "execution_count": 542,
   "metadata": {},
   "outputs": [],
   "source": [
    "df_test['class_prob_1_vars_3'] = df_test.age_prob_1 * df_test.sex_1 * df_test.length_1 * df_test.diameter_1\n",
    "df_test['class_prob_1_vars_8'] = df_test.age_prob_1 * df_test.sex_1 * df_test.length_1 * df_test.diameter_1 * df_test.height_1 * df_test.whole_weight_1 * df_test.shucked_weight_1 * df_test.viscera_weight_1 * df_test.shell_weight_1"
   ]
  },
  {
   "cell_type": "code",
   "execution_count": 543,
   "metadata": {},
   "outputs": [],
   "source": [
    "df_test['class_prob_2_vars_3'] = df_test.age_prob_2 * df_test.sex_2 * df_test.length_2 * df_test.diameter_2\n",
    "df_test['class_prob_2_vars_8'] = df_test.age_prob_2 * df_test.sex_2 * df_test.length_2 * df_test.diameter_2 * df_test.height_2 * df_test.whole_weight_2 * df_test.shucked_weight_2 * df_test.viscera_weight_2 * df_test.shell_weight_2"
   ]
  },
  {
   "cell_type": "code",
   "execution_count": 544,
   "metadata": {},
   "outputs": [],
   "source": [
    "df_test['class_prob_3_vars_3'] = df_test.age_prob_3 * df_test.sex_3 * df_test.length_3 * df_test.diameter_3\n",
    "df_test['class_prob_3_vars_8'] = df_test.age_prob_3 * df_test.sex_3 * df_test.length_3 * df_test.diameter_3 * df_test.height_3 * df_test.whole_weight_3 * df_test.shucked_weight_3 * df_test.viscera_weight_3 * df_test.shell_weight_3"
   ]
  },
  {
   "cell_type": "code",
   "execution_count": 545,
   "metadata": {},
   "outputs": [],
   "source": [
    "conditions_3 = [\n",
    "    (df_test['class_prob_1_vars_3'] >= df_test['class_prob_2_vars_3']) & (df_test['class_prob_1_vars_3'] >= df_test['class_prob_3_vars_3']), \n",
    "    (df_test['class_prob_2_vars_3'] >= df_test['class_prob_1_vars_3']) & (df_test['class_prob_2_vars_3'] >= df_test['class_prob_3_vars_3'])]\n",
    "\n",
    "choices_3 = [1, 2]\n",
    "\n",
    "df_test['vars_3_guess'] = np.select(conditions_3, choices_3, default=3)"
   ]
  },
  {
   "cell_type": "code",
   "execution_count": 546,
   "metadata": {},
   "outputs": [],
   "source": [
    "conditions_8 = [\n",
    "    (df_test['class_prob_1_vars_8'] >= df_test['class_prob_2_vars_8']) & (df_test['class_prob_1_vars_8'] >= df_test['class_prob_3_vars_8']), \n",
    "    (df_test['class_prob_2_vars_8'] >= df_test['class_prob_3_vars_8'])]\n",
    "\n",
    "choices_8 = [1, 2]\n",
    "\n",
    "df_test['vars_8_guess'] = np.select(conditions_8, choices_8, default=3)"
   ]
  },
  {
   "cell_type": "code",
   "execution_count": 550,
   "metadata": {},
   "outputs": [
    {
     "name": "stdout",
     "output_type": "stream",
     "text": [
      "Accuracy with 2000 samples and 3 variables\n"
     ]
    },
    {
     "data": {
      "text/plain": [
       "0.6187413872301332"
      ]
     },
     "execution_count": 550,
     "metadata": {},
     "output_type": "execute_result"
    },
    {
     "name": "stdout",
     "output_type": "stream",
     "text": [
      "Accuracy with 2000 samples and 8 variables\n"
     ]
    },
    {
     "data": {
      "text/plain": [
       "0.5668350941662839"
      ]
     },
     "execution_count": 550,
     "metadata": {},
     "output_type": "execute_result"
    },
    {
     "data": {
      "text/html": [
       "<div>\n",
       "<style scoped>\n",
       "    .dataframe tbody tr th:only-of-type {\n",
       "        vertical-align: middle;\n",
       "    }\n",
       "\n",
       "    .dataframe tbody tr th {\n",
       "        vertical-align: top;\n",
       "    }\n",
       "\n",
       "    .dataframe thead th {\n",
       "        text-align: right;\n",
       "    }\n",
       "</style>\n",
       "<table border=\"1\" class=\"dataframe\">\n",
       "  <thead>\n",
       "    <tr style=\"text-align: right;\">\n",
       "      <th></th>\n",
       "      <th>sex</th>\n",
       "      <th>length</th>\n",
       "      <th>diameter</th>\n",
       "      <th>height</th>\n",
       "      <th>whole_weight</th>\n",
       "      <th>shucked_weight</th>\n",
       "      <th>viscera_weight</th>\n",
       "      <th>shell_weight</th>\n",
       "      <th>age_class</th>\n",
       "      <th>age_prob_1</th>\n",
       "      <th>...</th>\n",
       "      <th>shell_weight_2</th>\n",
       "      <th>shell_weight_3</th>\n",
       "      <th>class_prob_1_vars_3</th>\n",
       "      <th>class_prob_1_vars_8</th>\n",
       "      <th>class_prob_2_vars_3</th>\n",
       "      <th>class_prob_2_vars_8</th>\n",
       "      <th>class_prob_3_vars_3</th>\n",
       "      <th>class_prob_3_vars_8</th>\n",
       "      <th>vars_3_guess</th>\n",
       "      <th>vars_8_guess</th>\n",
       "    </tr>\n",
       "  </thead>\n",
       "  <tbody>\n",
       "    <tr>\n",
       "      <th>3477</th>\n",
       "      <td>I</td>\n",
       "      <td>0.400</td>\n",
       "      <td>0.300</td>\n",
       "      <td>0.110</td>\n",
       "      <td>0.2985</td>\n",
       "      <td>0.1375</td>\n",
       "      <td>0.0710</td>\n",
       "      <td>0.075</td>\n",
       "      <td>1</td>\n",
       "      <td>0.199</td>\n",
       "      <td>...</td>\n",
       "      <td>0.969636</td>\n",
       "      <td>0.457362</td>\n",
       "      <td>2.676886</td>\n",
       "      <td>1.125994e+04</td>\n",
       "      <td>0.165408</td>\n",
       "      <td>0.503853</td>\n",
       "      <td>0.002691</td>\n",
       "      <td>3.819262e-04</td>\n",
       "      <td>1</td>\n",
       "      <td>1</td>\n",
       "    </tr>\n",
       "    <tr>\n",
       "      <th>655</th>\n",
       "      <td>M</td>\n",
       "      <td>0.295</td>\n",
       "      <td>0.215</td>\n",
       "      <td>0.075</td>\n",
       "      <td>0.1290</td>\n",
       "      <td>0.0500</td>\n",
       "      <td>0.0295</td>\n",
       "      <td>0.040</td>\n",
       "      <td>1</td>\n",
       "      <td>0.199</td>\n",
       "      <td>...</td>\n",
       "      <td>0.543050</td>\n",
       "      <td>0.269742</td>\n",
       "      <td>0.351057</td>\n",
       "      <td>6.035557e+02</td>\n",
       "      <td>0.001250</td>\n",
       "      <td>0.000036</td>\n",
       "      <td>0.000005</td>\n",
       "      <td>2.189766e-09</td>\n",
       "      <td>1</td>\n",
       "      <td>1</td>\n",
       "    </tr>\n",
       "    <tr>\n",
       "      <th>1154</th>\n",
       "      <td>M</td>\n",
       "      <td>0.600</td>\n",
       "      <td>0.455</td>\n",
       "      <td>0.170</td>\n",
       "      <td>1.1915</td>\n",
       "      <td>0.6960</td>\n",
       "      <td>0.2395</td>\n",
       "      <td>0.240</td>\n",
       "      <td>2</td>\n",
       "      <td>0.199</td>\n",
       "      <td>...</td>\n",
       "      <td>3.658779</td>\n",
       "      <td>2.266090</td>\n",
       "      <td>0.003173</td>\n",
       "      <td>8.789747e-16</td>\n",
       "      <td>4.596616</td>\n",
       "      <td>319.481449</td>\n",
       "      <td>3.053716</td>\n",
       "      <td>2.775962e+02</td>\n",
       "      <td>2</td>\n",
       "      <td>2</td>\n",
       "    </tr>\n",
       "    <tr>\n",
       "      <th>3721</th>\n",
       "      <td>M</td>\n",
       "      <td>0.430</td>\n",
       "      <td>0.310</td>\n",
       "      <td>0.130</td>\n",
       "      <td>0.6485</td>\n",
       "      <td>0.2735</td>\n",
       "      <td>0.1630</td>\n",
       "      <td>0.184</td>\n",
       "      <td>2</td>\n",
       "      <td>0.199</td>\n",
       "      <td>...</td>\n",
       "      <td>3.023180</td>\n",
       "      <td>1.551654</td>\n",
       "      <td>0.433279</td>\n",
       "      <td>2.113498e+00</td>\n",
       "      <td>0.558911</td>\n",
       "      <td>97.226602</td>\n",
       "      <td>0.035004</td>\n",
       "      <td>8.270937e-01</td>\n",
       "      <td>2</td>\n",
       "      <td>2</td>\n",
       "    </tr>\n",
       "    <tr>\n",
       "      <th>2562</th>\n",
       "      <td>I</td>\n",
       "      <td>0.440</td>\n",
       "      <td>0.325</td>\n",
       "      <td>0.100</td>\n",
       "      <td>0.4165</td>\n",
       "      <td>0.1850</td>\n",
       "      <td>0.0865</td>\n",
       "      <td>0.110</td>\n",
       "      <td>1</td>\n",
       "      <td>0.199</td>\n",
       "      <td>...</td>\n",
       "      <td>1.559827</td>\n",
       "      <td>0.725959</td>\n",
       "      <td>1.862892</td>\n",
       "      <td>5.431350e+03</td>\n",
       "      <td>0.549531</td>\n",
       "      <td>3.984076</td>\n",
       "      <td>0.017495</td>\n",
       "      <td>5.059849e-03</td>\n",
       "      <td>1</td>\n",
       "      <td>1</td>\n",
       "    </tr>\n",
       "  </tbody>\n",
       "</table>\n",
       "<p>5 rows × 44 columns</p>\n",
       "</div>"
      ],
      "text/plain": [
       "     sex  length  diameter  height  whole_weight  shucked_weight  \\\n",
       "3477   I   0.400     0.300   0.110        0.2985          0.1375   \n",
       "655    M   0.295     0.215   0.075        0.1290          0.0500   \n",
       "1154   M   0.600     0.455   0.170        1.1915          0.6960   \n",
       "3721   M   0.430     0.310   0.130        0.6485          0.2735   \n",
       "2562   I   0.440     0.325   0.100        0.4165          0.1850   \n",
       "\n",
       "      viscera_weight  shell_weight  age_class  age_prob_1      ...       \\\n",
       "3477          0.0710         0.075          1       0.199      ...        \n",
       "655           0.0295         0.040          1       0.199      ...        \n",
       "1154          0.2395         0.240          2       0.199      ...        \n",
       "3721          0.1630         0.184          2       0.199      ...        \n",
       "2562          0.0865         0.110          1       0.199      ...        \n",
       "\n",
       "      shell_weight_2  shell_weight_3  class_prob_1_vars_3  \\\n",
       "3477        0.969636        0.457362             2.676886   \n",
       "655         0.543050        0.269742             0.351057   \n",
       "1154        3.658779        2.266090             0.003173   \n",
       "3721        3.023180        1.551654             0.433279   \n",
       "2562        1.559827        0.725959             1.862892   \n",
       "\n",
       "      class_prob_1_vars_8  class_prob_2_vars_3  class_prob_2_vars_8  \\\n",
       "3477         1.125994e+04             0.165408             0.503853   \n",
       "655          6.035557e+02             0.001250             0.000036   \n",
       "1154         8.789747e-16             4.596616           319.481449   \n",
       "3721         2.113498e+00             0.558911            97.226602   \n",
       "2562         5.431350e+03             0.549531             3.984076   \n",
       "\n",
       "      class_prob_3_vars_3  class_prob_3_vars_8  vars_3_guess  vars_8_guess  \n",
       "3477             0.002691         3.819262e-04             1             1  \n",
       "655              0.000005         2.189766e-09             1             1  \n",
       "1154             3.053716         2.775962e+02             2             2  \n",
       "3721             0.035004         8.270937e-01             2             2  \n",
       "2562             0.017495         5.059849e-03             1             1  \n",
       "\n",
       "[5 rows x 44 columns]"
      ]
     },
     "execution_count": 550,
     "metadata": {},
     "output_type": "execute_result"
    }
   ],
   "source": [
    "print ('Accuracy with {} samples and 3 variables'.format(training_samples))\n",
    "len(df_test[df_test.age_class == df_test.vars_3_guess])/len(df_test)\n",
    "print ('Accuracy with {} samples and 8 variables'.format(training_samples))\n",
    "len(df_test[df_test.age_class == df_test.vars_8_guess])/len(df_test)"
   ]
  },
  {
   "cell_type": "code",
   "execution_count": 548,
   "metadata": {},
   "outputs": [
    {
     "name": "stdout",
     "output_type": "stream",
     "text": [
      "Confusion matrix with 2000 samples and 3 variables\n"
     ]
    },
    {
     "data": {
      "text/html": [
       "<div>\n",
       "<style scoped>\n",
       "    .dataframe tbody tr th:only-of-type {\n",
       "        vertical-align: middle;\n",
       "    }\n",
       "\n",
       "    .dataframe tbody tr th {\n",
       "        vertical-align: top;\n",
       "    }\n",
       "\n",
       "    .dataframe thead th {\n",
       "        text-align: right;\n",
       "    }\n",
       "</style>\n",
       "<table border=\"1\" class=\"dataframe\">\n",
       "  <thead>\n",
       "    <tr style=\"text-align: right;\">\n",
       "      <th></th>\n",
       "      <th>Matrix</th>\n",
       "      <th>Actual Value 1</th>\n",
       "      <th>Actual Value 2</th>\n",
       "      <th>Actual Value 3</th>\n",
       "    </tr>\n",
       "  </thead>\n",
       "  <tbody>\n",
       "    <tr>\n",
       "      <th>0</th>\n",
       "      <td>Guessed 1</td>\n",
       "      <td>350</td>\n",
       "      <td>136</td>\n",
       "      <td>18</td>\n",
       "    </tr>\n",
       "    <tr>\n",
       "      <th>1</th>\n",
       "      <td>Guessed 2</td>\n",
       "      <td>90</td>\n",
       "      <td>844</td>\n",
       "      <td>315</td>\n",
       "    </tr>\n",
       "    <tr>\n",
       "      <th>2</th>\n",
       "      <td>Guessed 3</td>\n",
       "      <td>1</td>\n",
       "      <td>270</td>\n",
       "      <td>153</td>\n",
       "    </tr>\n",
       "  </tbody>\n",
       "</table>\n",
       "</div>"
      ],
      "text/plain": [
       "      Matrix  Actual Value 1  Actual Value 2  Actual Value 3\n",
       "0  Guessed 1             350             136              18\n",
       "1  Guessed 2              90             844             315\n",
       "2  Guessed 3               1             270             153"
      ]
     },
     "execution_count": 548,
     "metadata": {},
     "output_type": "execute_result"
    },
    {
     "name": "stdout",
     "output_type": "stream",
     "text": [
      "Total misclassification errors: 830\n",
      "Confusion matrix with 2000 samples and 8 variables\n"
     ]
    },
    {
     "data": {
      "text/html": [
       "<div>\n",
       "<style scoped>\n",
       "    .dataframe tbody tr th:only-of-type {\n",
       "        vertical-align: middle;\n",
       "    }\n",
       "\n",
       "    .dataframe tbody tr th {\n",
       "        vertical-align: top;\n",
       "    }\n",
       "\n",
       "    .dataframe thead th {\n",
       "        text-align: right;\n",
       "    }\n",
       "</style>\n",
       "<table border=\"1\" class=\"dataframe\">\n",
       "  <thead>\n",
       "    <tr style=\"text-align: right;\">\n",
       "      <th></th>\n",
       "      <th>Matrix</th>\n",
       "      <th>Actual Value 1</th>\n",
       "      <th>Actual Value 2</th>\n",
       "      <th>Actual Value 3</th>\n",
       "    </tr>\n",
       "  </thead>\n",
       "  <tbody>\n",
       "    <tr>\n",
       "      <th>0</th>\n",
       "      <td>Guessed 1</td>\n",
       "      <td>383</td>\n",
       "      <td>247</td>\n",
       "      <td>34</td>\n",
       "    </tr>\n",
       "    <tr>\n",
       "      <th>1</th>\n",
       "      <td>Guessed 2</td>\n",
       "      <td>56</td>\n",
       "      <td>610</td>\n",
       "      <td>211</td>\n",
       "    </tr>\n",
       "    <tr>\n",
       "      <th>2</th>\n",
       "      <td>Guessed 3</td>\n",
       "      <td>2</td>\n",
       "      <td>393</td>\n",
       "      <td>241</td>\n",
       "    </tr>\n",
       "  </tbody>\n",
       "</table>\n",
       "</div>"
      ],
      "text/plain": [
       "      Matrix  Actual Value 1  Actual Value 2  Actual Value 3\n",
       "0  Guessed 1             383             247              34\n",
       "1  Guessed 2              56             610             211\n",
       "2  Guessed 3               2             393             241"
      ]
     },
     "execution_count": 548,
     "metadata": {},
     "output_type": "execute_result"
    },
    {
     "name": "stdout",
     "output_type": "stream",
     "text": [
      "Total misclassification errors: 943\n"
     ]
    }
   ],
   "source": [
    "print ('Confusion matrix with {} samples and 3 variables'.format(training_samples))\n",
    "\n",
    "cm3 = {'Matrix': ['Guessed 1', 'Guessed 2', 'Guessed 3'],\n",
    "         'Actual Value 1': [len(df_test[(df_test.age_class==1) & (df_test.vars_3_guess==1)]), len(df_test[(df_test.age_class==1) & (df_test.vars_3_guess==2)]), len(df_test[(df_test.age_class==1) & (df_test.vars_3_guess==3)])],\n",
    "         'Actual Value 2': [len(df_test[(df_test.age_class==2) & (df_test.vars_3_guess==1)]), len(df_test[(df_test.age_class==2) & (df_test.vars_3_guess==2)]), len(df_test[(df_test.age_class==2) & (df_test.vars_3_guess==3)])],\n",
    "         'Actual Value 3': [len(df_test[(df_test.age_class==3) & (df_test.vars_3_guess==1)]), len(df_test[(df_test.age_class==3) & (df_test.vars_3_guess==2)]), len(df_test[(df_test.age_class==3) & (df_test.vars_3_guess==3)])]}\n",
    "cm3 = pd.DataFrame.from_dict(cm3)\n",
    "cm3\n",
    "\n",
    "print ('Total misclassification errors: {}'.format(len(df_test)-cm3.iloc[0][1]-cm3.iloc[1][2]-cm3.iloc[2][3]))\n",
    "  \n",
    "print ('Confusion matrix with {} samples and 8 variables'.format(training_samples))\n",
    "\n",
    "cm8 = {'Matrix': ['Guessed 1', 'Guessed 2', 'Guessed 3'],\n",
    "         'Actual Value 1': [len(df_test[(df_test.age_class==1) & (df_test.vars_8_guess==1)]), len(df_test[(df_test.age_class==1) & (df_test.vars_8_guess==2)]), len(df_test[(df_test.age_class==1) & (df_test.vars_8_guess==3)])],\n",
    "         'Actual Value 2': [len(df_test[(df_test.age_class==2) & (df_test.vars_8_guess==1)]), len(df_test[(df_test.age_class==2) & (df_test.vars_8_guess==2)]), len(df_test[(df_test.age_class==2) & (df_test.vars_8_guess==3)])],\n",
    "         'Actual Value 3': [len(df_test[(df_test.age_class==3) & (df_test.vars_8_guess==1)]), len(df_test[(df_test.age_class==3) & (df_test.vars_8_guess==2)]), len(df_test[(df_test.age_class==3) & (df_test.vars_8_guess==3)])]}\n",
    "cm8 = pd.DataFrame.from_dict(cm8)\n",
    "cm8\n",
    "\n",
    "print ('Total misclassification errors: {}'.format(len(df_test)-cm8.iloc[0][1]-cm8.iloc[1][2]-cm8.iloc[2][3]))"
   ]
  },
  {
   "cell_type": "markdown",
   "metadata": {},
   "source": [
    "## References\n",
    "https://pandas.pydata.org/pandas-docs/stable/generated/pandas.read_table.html<br>\n",
    "https://pandas.pydata.org/pandas-docs/stable/generated/pandas.DataFrame.drop.html<br>\n",
    "https://scikit-learn.org/stable/modules/generated/sklearn.model_selection.train_test_split.html<br>\n",
    "http://www.inf.ed.ac.uk/teaching/courses/inf2b/learnnotes/inf2b-learn-note09-2up.pdf<br>\n",
    "http://pandas.pydata.org/pandas-docs/stable/generated/pandas.DataFrame.add_prefix.html<br>"
   ]
  }
 ],
 "metadata": {
  "kernelspec": {
   "display_name": "Python 3",
   "language": "python",
   "name": "python3"
  }
 },
 "nbformat": 4,
 "nbformat_minor": 2
}
